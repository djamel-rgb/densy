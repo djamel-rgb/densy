{
 "cells": [
  {
   "cell_type": "code",
   "execution_count": 16,
   "metadata": {},
   "outputs": [],
   "source": [
    "import sqlite3\n",
    "import datetime"
   ]
  },
  {
   "cell_type": "code",
   "execution_count": 23,
   "metadata": {},
   "outputs": [],
   "source": [
    "DB=sqlite3.connect(\"data/DensyDB.db\")"
   ]
  },
  {
   "cell_type": "code",
   "execution_count": 24,
   "metadata": {},
   "outputs": [],
   "source": [
    "DB_instance = DB.cursor()"
   ]
  },
  {
   "cell_type": "code",
   "execution_count": 25,
   "metadata": {},
   "outputs": [
    {
     "ename": "SyntaxError",
     "evalue": "invalid syntax (<ipython-input-25-96ea7fac4493>, line 1)",
     "output_type": "error",
     "traceback": [
      "\u001b[0;36m  File \u001b[0;32m\"<ipython-input-25-96ea7fac4493>\"\u001b[0;36m, line \u001b[0;32m1\u001b[0m\n\u001b[0;31m    ([generated_id] INTEGER PRIMARY KEY,[USER_Name] text, [Compagny_ID] texte, [Date] date),[Compagny_ID] texte\u001b[0m\n\u001b[0m                    ^\u001b[0m\n\u001b[0;31mSyntaxError\u001b[0m\u001b[0;31m:\u001b[0m invalid syntax\n"
     ]
    }
   ],
   "source": [
    "([generated_id] INTEGER PRIMARY KEY,[USER_Name] text, [Compagny_ID] texte, [Date] date),[Compagny_ID] texte"
   ]
  },
  {
   "cell_type": "code",
   "execution_count": 26,
   "metadata": {},
   "outputs": [],
   "source": [
    "User_data = (123456789, \"Moufok Anisa\", \"Phi_avtoulon\", datetime.datetime.now(), \"123456789\")"
   ]
  },
  {
   "cell_type": "code",
   "execution_count": 27,
   "metadata": {},
   "outputs": [
    {
     "data": {
      "text/plain": [
       "(123456789,\n",
       " 'Moufok Anisa',\n",
       " 'Phi_avtoulon',\n",
       " datetime.datetime(2020, 12, 26, 15, 53, 31, 880032),\n",
       " '123456789')"
      ]
     },
     "execution_count": 27,
     "metadata": {},
     "output_type": "execute_result"
    }
   ],
   "source": [
    "User_data"
   ]
  },
  {
   "cell_type": "code",
   "execution_count": 28,
   "metadata": {},
   "outputs": [
    {
     "ename": "SyntaxError",
     "evalue": "invalid syntax (<ipython-input-28-96ea7fac4493>, line 1)",
     "output_type": "error",
     "traceback": [
      "\u001b[0;36m  File \u001b[0;32m\"<ipython-input-28-96ea7fac4493>\"\u001b[0;36m, line \u001b[0;32m1\u001b[0m\n\u001b[0;31m    ([generated_id] INTEGER PRIMARY KEY,[USER_Name] text, [Compagny_ID] texte, [Date] date),[Compagny_ID] texte\u001b[0m\n\u001b[0m                    ^\u001b[0m\n\u001b[0;31mSyntaxError\u001b[0m\u001b[0;31m:\u001b[0m invalid syntax\n"
     ]
    }
   ],
   "source": [
    "([generated_id] INTEGER PRIMARY KEY,[USER_Name] text, [Compagny_ID] texte, [Date] date),[Compagny_ID] texte"
   ]
  },
  {
   "cell_type": "code",
   "execution_count": 31,
   "metadata": {},
   "outputs": [],
   "source": [
    "sqlite_insert_with_param = \"\"\"INSERT INTO 'USERS' ('generated_id', 'USER_name', 'Compagny_ID', 'Date', 'Password') VALUES (?, ?, ?, ?, ?);\"\"\""
   ]
  },
  {
   "cell_type": "code",
   "execution_count": 32,
   "metadata": {},
   "outputs": [
    {
     "data": {
      "text/plain": [
       "<sqlite3.Cursor at 0x7fd2271a3260>"
      ]
     },
     "execution_count": 32,
     "metadata": {},
     "output_type": "execute_result"
    }
   ],
   "source": [
    "DB_instance.execute(sqlite_insert_with_param, User_data)"
   ]
  },
  {
   "cell_type": "code",
   "execution_count": null,
   "metadata": {},
   "outputs": [],
   "source": []
  }
 ],
 "metadata": {
  "kernelspec": {
   "display_name": "Python 3.8.2 64-bit ('dashboard': conda)",
   "language": "python",
   "name": "python38264bitdashboardconda16a29fc831694fa39974cdaaf00c70e1"
  },
  "language_info": {
   "codemirror_mode": {
    "name": "ipython",
    "version": 3
   },
   "file_extension": ".py",
   "mimetype": "text/x-python",
   "name": "python",
   "nbconvert_exporter": "python",
   "pygments_lexer": "ipython3",
   "version": "3.8.5"
  }
 },
 "nbformat": 4,
 "nbformat_minor": 2
}
